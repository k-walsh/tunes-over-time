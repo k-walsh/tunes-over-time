{
  "nbformat": 4,
  "nbformat_minor": 0,
  "metadata": {
    "colab": {
      "name": "spotify_final_analysis.ipynb",
      "provenance": [],
      "collapsed_sections": [],
      "include_colab_link": true
    },
    "kernelspec": {
      "name": "python3",
      "display_name": "Python 3"
    },
    "language_info": {
      "name": "python"
    }
  },
  "cells": [
    {
      "cell_type": "markdown",
      "metadata": {
        "id": "view-in-github",
        "colab_type": "text"
      },
      "source": [
        "<a href=\"https://colab.research.google.com/github/k-walsh/tunes-over-time/blob/main/spotify_final_analysis.ipynb\" target=\"_parent\"><img src=\"https://colab.research.google.com/assets/colab-badge.svg\" alt=\"Open In Colab\"/></a>"
      ]
    },
    {
      "cell_type": "code",
      "metadata": {
        "id": "zqBCKS6orpnI"
      },
      "source": [
        "import numpy as np\n",
        "import pandas as pd\n",
        "import random\n",
        "import statsmodels.api as sm\n",
        "from statsmodels.tools import eval_measures\n",
        "from sklearn.metrics import r2_score\n",
        "# from util import all_variable_names_in_df, train_test_split, RANDOM_SEED\n",
        "from google.colab import files"
      ],
      "execution_count": null,
      "outputs": []
    },
    {
      "cell_type": "code",
      "metadata": {
        "colab": {
          "base_uri": "https://localhost:8080/"
        },
        "id": "b19nmr0Or9yH",
        "outputId": "1d35d9e0-7d4e-4463-f8c7-2c2be5378b3a"
      },
      "source": [
        "from google.colab import drive\n",
        "drive.mount('/content/gdrive')\n",
        "\n",
        "# I copied the train data to my main drive and named it \"Copy_of_train.csv\"\n",
        "path = \"/content/gdrive/My Drive/Copy_of_train.csv\"\n",
        "#path = \"/content/gdrive/My Drive/SMAK Data Science/train.csv\"\n",
        "with open(path, 'rb') as f:\n",
        "  train_data = pd.read_csv(f)\n",
        "print(\"Finished reading train data!\")"
      ],
      "execution_count": null,
      "outputs": [
        {
          "output_type": "stream",
          "text": [
            "Mounted at /content/gdrive\n",
            "Finished reading train data!\n"
          ],
          "name": "stdout"
        }
      ]
    },
    {
      "cell_type": "code",
      "metadata": {
        "colab": {
          "base_uri": "https://localhost:8080/"
        },
        "id": "UyeXejEIr1nl",
        "outputId": "7657c0ee-ef8d-419e-dd27-eaf6d7cbb5d6"
      },
      "source": [
        "#from google.colab import drive\n",
        "#drive.mount('/content/gdrive')\n",
        "\n",
        "# I copied the train data to my main drive and named it \"Copy_of_train.csv\"\n",
        "path = \"/content/gdrive/My Drive/Copy_of_test.csv\"\n",
        "#path = \"/content/gdrive/My Drive/SMAK Data Science/train.csv\"\n",
        "with open(path, 'rb') as f:\n",
        "  test_data = pd.read_csv(f)\n",
        "print(\"Finished reading test data!\")"
      ],
      "execution_count": null,
      "outputs": [
        {
          "output_type": "stream",
          "text": [
            "Finished reading test data!\n"
          ],
          "name": "stdout"
        }
      ]
    },
    {
      "cell_type": "code",
      "metadata": {
        "colab": {
          "base_uri": "https://localhost:8080/"
        },
        "id": "2cnFUEZKsLNV",
        "outputId": "9dc227b4-6379-458a-b135-ea53f56376ff"
      },
      "source": [
        "import scipy.stats as stats\n",
        "\n",
        "# add a column for decade\n",
        "\n",
        "def get_decade(x):\n",
        "  if 1960 <= x < 1970:\n",
        "    return '1960'\n",
        "  elif 1970 <= x < 1980:\n",
        "    return '1970'\n",
        "  elif 1980 <= x < 1990:\n",
        "    return '1980'\n",
        "  elif 1990 <= x < 2000:\n",
        "    return '1990'\n",
        "  elif 2000 <= x < 2010:\n",
        "    return '2000'\n",
        "  elif 2010 <= x < 2021:\n",
        "    return '2010'\n",
        "\n",
        "train_data[\"decade\"] = train_data[\"date\"].map(get_decade)\n",
        "test_data[\"decade\"] = test_data[\"date\"].map(get_decade)\n",
        "\n",
        "train_sample1 = train_data[train_data[\"decade\"] < '1990']\n",
        "train_sample2 = train_data[train_data[\"decade\"] >= '1990']\n",
        "\n",
        "test_sample1 = test_data[test_data[\"decade\"] < '1990']\n",
        "test_sample2 = test_data[test_data[\"decade\"] >= '1990']\n",
        "\n",
        "print(\"speechiness\")\n",
        "test_statistic, p_value = stats.ttest_ind(a=train_sample1[\"speechiness\"], b=train_sample2[\"speechiness\"], equal_var=False)\n",
        "print(\"train\")\n",
        "print(test_statistic)\n",
        "print(p_value)\n",
        "\n",
        "test_statistic, p_value = stats.ttest_ind(a=test_sample1[\"speechiness\"], b=test_sample2[\"speechiness\"], equal_var=False)\n",
        "print(\"test\")\n",
        "print(test_statistic)\n",
        "print(p_value)\n",
        "\n",
        "print(\"instrumentalness\")\n",
        "test_statistic, p_value = stats.ttest_ind(a=train_sample1[\"instrumentalness\"], b=train_sample2[\"instrumentalness\"], equal_var=False)\n",
        "print(\"train\")\n",
        "print(test_statistic)\n",
        "print(p_value)\n",
        "\n",
        "test_statistic, p_value = stats.ttest_ind(a=test_sample1[\"instrumentalness\"], b=test_sample2[\"instrumentalness\"], equal_var=False)\n",
        "print(\"test\")\n",
        "print(test_statistic)\n",
        "print(p_value)"
      ],
      "execution_count": null,
      "outputs": [
        {
          "output_type": "stream",
          "text": [
            "speechiness\n",
            "train\n",
            "-20.97407569651134\n",
            "8.335368692731174e-90\n",
            "test\n",
            "-8.92675816597448\n",
            "3.579284707174202e-18\n",
            "instrumentalness\n",
            "train\n",
            "8.270550457861642\n",
            "2.2122252603114273e-16\n",
            "test\n",
            "2.0973491170818304\n",
            "0.03627754535663658\n"
          ],
          "name": "stdout"
        }
      ]
    },
    {
      "cell_type": "code",
      "metadata": {
        "colab": {
          "base_uri": "https://localhost:8080/"
        },
        "id": "BrmCWYvFxhi-",
        "outputId": "f27e0c70-ba1e-465c-817f-385b13ba219b"
      },
      "source": [
        "import statsmodels.api as sm\n",
        "from statsmodels.tools import eval_measures\n",
        "from sklearn.metrics import r2_score\n",
        "\n",
        "#IND_VAR_NAMES = ['acousticness', 'danceability', 'duration_ms', 'energy', 'instrumentalness', 'loudness', 'speechiness', 'tempo', 'valence', 'key']\n",
        "#DEP_VAR_NAME = \"peak_rank\"\n",
        "\n",
        "IND_VAR_NAMES = ['date']\n",
        "DEP_VAR_NAME = \"instrumentalness\"\n",
        "\n",
        "X_train = train_data[IND_VAR_NAMES]\n",
        "X_test = test_data[IND_VAR_NAMES]\n",
        "\n",
        "y_train = train_data[DEP_VAR_NAME]\n",
        "y_test = test_data[DEP_VAR_NAME]\n",
        "\n",
        "x_train_with_constant = sm.add_constant(X_train)\n",
        "mod = sm.OLS(y_train, x_train_with_constant)\n",
        "result = mod.fit()\n",
        "\n",
        "mse_train = eval_measures.mse(y_train, result.predict(x_train_with_constant))\n",
        "\n",
        "x_test_with_constant = sm.add_constant(X_test)\n",
        "mse_test = eval_measures.mse(y_test, result.predict(x_test_with_constant))\n",
        "\n",
        "# TODO: Calculate the *test* R-squared value (using sklearn's r2_score function)\n",
        "rsquared_val = r2_score(y_test, result.predict(x_test_with_constant))\n",
        "\n",
        "# TODO: Print out the summary to see more information as needed\n",
        "print(result.summary())"
      ],
      "execution_count": null,
      "outputs": [
        {
          "output_type": "stream",
          "text": [
            "                            OLS Regression Results                            \n",
            "==============================================================================\n",
            "Dep. Variable:       instrumentalness   R-squared:                       0.023\n",
            "Model:                            OLS   Adj. R-squared:                  0.023\n",
            "Method:                 Least Squares   F-statistic:                     87.59\n",
            "Date:                Fri, 06 Aug 2021   Prob (F-statistic):           1.36e-20\n",
            "Time:                        16:03:44   Log-Likelihood:                 2432.3\n",
            "No. Observations:                3724   AIC:                            -4861.\n",
            "Df Residuals:                    3722   BIC:                            -4848.\n",
            "Df Model:                           1                                         \n",
            "Covariance Type:            nonrobust                                         \n",
            "==============================================================================\n",
            "                 coef    std err          t      P>|t|      [0.025      0.975]\n",
            "------------------------------------------------------------------------------\n",
            "const          2.1394      0.226      9.482      0.000       1.697       2.582\n",
            "date          -0.0011      0.000     -9.359      0.000      -0.001      -0.001\n",
            "==============================================================================\n",
            "Omnibus:                     3875.462   Durbin-Watson:                   2.007\n",
            "Prob(Omnibus):                  0.000   Jarque-Bera (JB):           162335.361\n",
            "Skew:                           5.409   Prob(JB):                         0.00\n",
            "Kurtosis:                      33.482   Cond. No.                     2.17e+05\n",
            "==============================================================================\n",
            "\n",
            "Warnings:\n",
            "[1] Standard Errors assume that the covariance matrix of the errors is correctly specified.\n",
            "[2] The condition number is large, 2.17e+05. This might indicate that there are\n",
            "strong multicollinearity or other numerical problems.\n"
          ],
          "name": "stdout"
        }
      ]
    },
    {
      "cell_type": "code",
      "metadata": {
        "colab": {
          "base_uri": "https://localhost:8080/"
        },
        "id": "bji2r3uoNRo1",
        "outputId": "849b73a2-7b2d-4c43-c2f0-69c964d62f2a"
      },
      "source": [
        "import statsmodels.api as sm\n",
        "from statsmodels.tools import eval_measures\n",
        "from sklearn.metrics import r2_score\n",
        "\n",
        "#IND_VAR_NAMES = ['acousticness', 'danceability', 'duration_ms', 'energy', 'instrumentalness', 'loudness', 'speechiness', 'tempo', 'valence', 'key']\n",
        "#DEP_VAR_NAME = \"peak_rank\"\n",
        "\n",
        "IND_VAR_NAMES = ['date']\n",
        "DEP_VAR_NAME = \"speechiness\"\n",
        "\n",
        "X_train = train_data[IND_VAR_NAMES]\n",
        "X_test = test_data[IND_VAR_NAMES]\n",
        "\n",
        "y_train = train_data[DEP_VAR_NAME]\n",
        "y_test = test_data[DEP_VAR_NAME]\n",
        "\n",
        "x_train_with_constant = sm.add_constant(X_train)\n",
        "mod = sm.OLS(y_train, x_train_with_constant)\n",
        "result = mod.fit()\n",
        "\n",
        "mse_train = eval_measures.mse(y_train, result.predict(x_train_with_constant))\n",
        "\n",
        "x_test_with_constant = sm.add_constant(X_test)\n",
        "mse_test = eval_measures.mse(y_test, result.predict(x_test_with_constant))\n",
        "\n",
        "# TODO: Calculate the *test* R-squared value (using sklearn's r2_score function)\n",
        "rsquared_val = r2_score(y_test, result.predict(x_test_with_constant))\n",
        "\n",
        "# TODO: Print out the summary to see more information as needed\n",
        "print(result.summary())"
      ],
      "execution_count": null,
      "outputs": [
        {
          "output_type": "stream",
          "text": [
            "                            OLS Regression Results                            \n",
            "==============================================================================\n",
            "Dep. Variable:            speechiness   R-squared:                       0.115\n",
            "Model:                            OLS   Adj. R-squared:                  0.115\n",
            "Method:                 Least Squares   F-statistic:                     483.2\n",
            "Date:                Fri, 06 Aug 2021   Prob (F-statistic):          8.60e-101\n",
            "Time:                        18:14:17   Log-Likelihood:                 4207.3\n",
            "No. Observations:                3724   AIC:                            -8411.\n",
            "Df Residuals:                    3722   BIC:                            -8398.\n",
            "Df Model:                           1                                         \n",
            "Covariance Type:            nonrobust                                         \n",
            "==============================================================================\n",
            "                 coef    std err          t      P>|t|      [0.025      0.975]\n",
            "------------------------------------------------------------------------------\n",
            "const         -3.0043      0.140    -21.446      0.000      -3.279      -2.730\n",
            "date           0.0015   7.04e-05     21.982      0.000       0.001       0.002\n",
            "==============================================================================\n",
            "Omnibus:                     2227.874   Durbin-Watson:                   1.847\n",
            "Prob(Omnibus):                  0.000   Jarque-Bera (JB):            21436.603\n",
            "Skew:                           2.759   Prob(JB):                         0.00\n",
            "Kurtosis:                      13.378   Cond. No.                     2.17e+05\n",
            "==============================================================================\n",
            "\n",
            "Warnings:\n",
            "[1] Standard Errors assume that the covariance matrix of the errors is correctly specified.\n",
            "[2] The condition number is large, 2.17e+05. This might indicate that there are\n",
            "strong multicollinearity or other numerical problems.\n"
          ],
          "name": "stdout"
        }
      ]
    },
    {
      "cell_type": "code",
      "metadata": {
        "id": "EFxPUBeKxnEg"
      },
      "source": [
        "all_data = pd.concat([train_data, test_data])\n",
        "\n",
        "speechiness_sorted = all_data.sort_values(\"speechiness\", ascending=True)\n",
        "speechiness_sorted.to_csv(\"speechiness_sorted.csv\")"
      ],
      "execution_count": null,
      "outputs": []
    }
  ]
}